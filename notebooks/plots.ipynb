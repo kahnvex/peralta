{
 "cells": [
  {
   "cell_type": "code",
   "execution_count": 2,
   "id": "55b92002-8c13-4c4c-9997-10963c5c7566",
   "metadata": {},
   "outputs": [],
   "source": [
    "from pathlib import Path\n",
    "from datetime import datetime\n",
    "from typing import List, Tuple, Optional, Dict\n",
    "\n",
    "import plotly.graph_objects as go\n",
    "import plotly.io as pio\n",
    "from tensorboard.backend.event_processing import event_accumulator"
   ]
  },
  {
   "cell_type": "code",
   "execution_count": 3,
   "id": "3eb24dae-c201-4b07-be6b-df28dda38b08",
   "metadata": {},
   "outputs": [],
   "source": [
    "# ---------- helpers ----------\n",
    "def _find_event_files(path: str) -> List[Path]:\n",
    "    p = Path(path)\n",
    "    if p.is_file():\n",
    "        return [p]\n",
    "    return sorted(\n",
    "        p.rglob(\"events.out.tfevents*\"),\n",
    "        key=lambda f: f.stat().st_mtime,\n",
    "        reverse=True,\n",
    "    )\n",
    "\n",
    "\n",
    "def _decimate_indices(n: int, max_points: int) -> List[int]:\n",
    "    if n <= max_points:\n",
    "        return list(range(n))\n",
    "    stride = max(1, n // max_points)\n",
    "    idx = list(range(0, n, stride))\n",
    "    if idx[-1] != n - 1:\n",
    "        idx.append(n - 1)\n",
    "    return idx\n",
    "\n",
    "\n",
    "def _ema(values: List[float], smoothing: float) -> List[float]:\n",
    "    if smoothing <= 0:\n",
    "        return values\n",
    "    alpha = 1.0 - smoothing\n",
    "    out = []\n",
    "    for i, v in enumerate(values):\n",
    "        out.append(v if i == 0 else alpha * v + (1 - alpha) * out[-1])\n",
    "    return out\n",
    "\n",
    "\n",
    "def _format_tdelta(seconds: float) -> str:\n",
    "    sign = \"-\" if seconds < 0 else \"\"\n",
    "    s = abs(seconds)\n",
    "    d, r = divmod(s, 86400)\n",
    "    h, r = divmod(r, 3600)\n",
    "    m, s = divmod(r, 60)\n",
    "    if d >= 1:\n",
    "        return f\"{sign}{int(d)}d {int(h):02d}:{int(m):02d}:{s:05.2f}\"\n",
    "    if h >= 1:\n",
    "        return f\"{sign}{int(h):02d}:{int(m):02d}:{s:05.2f}\"\n",
    "    if m >= 1:\n",
    "        return f\"{sign}{int(m):02d}:{s:05.2f}\"\n",
    "    return f\"{sign}{(s if s >= 1 else s * 1000):.0f}{'s' if s >= 1 else ' ms'}\"\n",
    "\n",
    "\n",
    "def _load_scalar_series(\n",
    "    path: str, tag: str\n",
    ") -> Tuple[List[int], List[datetime], List[float], Path]:\n",
    "    \"\"\"\n",
    "    Load (steps, times, values) for `tag` from the newest event file under `path`\n",
    "    that contains the tag. Returns the event file used.\n",
    "    \"\"\"\n",
    "    files = _find_event_files(path)\n",
    "    if not files:\n",
    "        raise FileNotFoundError(f\"No TensorBoard event files found under: {path}\")\n",
    "\n",
    "    last_err = None\n",
    "    for f in files:  # newest first\n",
    "        try:\n",
    "            acc = event_accumulator.EventAccumulator(\n",
    "                str(f), size_guidance={\"scalars\": 0}\n",
    "            )\n",
    "            acc.Reload()\n",
    "            if tag not in (acc.Tags().get(\"scalars\", []) or []):\n",
    "                continue\n",
    "            scalars = sorted(acc.Scalars(tag), key=lambda s: (s.step, s.wall_time))\n",
    "            if not scalars:\n",
    "                continue\n",
    "            steps = [s.step for s in scalars]\n",
    "            times = [datetime.fromtimestamp(s.wall_time) for s in scalars]\n",
    "            values = [float(s.value) for s in scalars]\n",
    "            return steps, times, values, f\n",
    "        except Exception as e:\n",
    "            last_err = e\n",
    "            continue\n",
    "\n",
    "    raise ValueError(\n",
    "        f\"Tag '{tag}' not found in any event file under: {path}\"\n",
    "        + (f\" (last error: {last_err})\" if last_err else \"\")\n",
    "    )\n",
    "\n",
    "\n",
    "# ---------- main API ----------\n",
    "def plot_tb_scalars(\n",
    "    experiments: Dict[str, str],\n",
    "    tag: str,\n",
    "    xaxis: str = \"step\",  # \"step\" or \"time\"\n",
    "    max_points: int = 5000,\n",
    "    title: Optional[str] = None,\n",
    "    include_plotlyjs: str = \"cdn\",\n",
    "    save_html: str | None = None,\n",
    ") -> None:\n",
    "    \"\"\"Experiments dict is a map from experiment readable name to path.\n",
    "\n",
    "    This plots the same scalar across multiple runs for comparison.\n",
    "    \"\"\"\n",
    "    assert xaxis in {\"step\", \"time\"}, \"xaxis must be 'step' or 'time'\"\n",
    "\n",
    "    fig = go.Figure()\n",
    "    plotted_any = False\n",
    "    skipped = []\n",
    "\n",
    "    for name, path in experiments.items():\n",
    "        try:\n",
    "            steps, times, values, src_file = _load_scalar_series(path, tag)\n",
    "        except Exception as e:\n",
    "            skipped.append((name, str(e)))\n",
    "            continue\n",
    "\n",
    "        # Δt relative to this run's first wall-time\n",
    "        t0 = times[0]\n",
    "        delta_str = [_format_tdelta((t - t0).total_seconds()) for t in times]\n",
    "\n",
    "        x = steps if xaxis == \"step\" else times\n",
    "        x_label = \"Step\" if xaxis == \"step\" else \"Wall Time\"\n",
    "\n",
    "        idx = _decimate_indices(len(values), max_points)\n",
    "        x_ds = [x[i] for i in idx]\n",
    "        y_ds = [values[i] for i in idx]\n",
    "        dt_ds = [delta_str[i] for i in idx]\n",
    "\n",
    "        # Raw trace\n",
    "        fig.add_trace(\n",
    "            go.Scatter(\n",
    "                x=x_ds,\n",
    "                y=y_ds,\n",
    "                mode=\"lines\",\n",
    "                name=name,\n",
    "                legendgroup=name,\n",
    "                opacity=0.35,\n",
    "                customdata=dt_ds,\n",
    "                hovertemplate=(\n",
    "                    f\"<br />{x_label}: %{{x}}<br>Δt: %{{customdata}}<br>value: %{{y}}\"\n",
    "                ),\n",
    "            )\n",
    "        )\n",
    "\n",
    "        plotted_any = True\n",
    "\n",
    "    if not plotted_any:\n",
    "        raise RuntimeError(\n",
    "            f\"Nothing plotted. Either no event files found or tag '{tag}' missing in all runs.\"\n",
    "            + (\n",
    "                \"\"\n",
    "                if not skipped\n",
    "                else \"\\nSkipped:\\n  - \"\n",
    "                + \"\\n  - \".join(f\"{n}: {err}\" for n, err in skipped)\n",
    "            )\n",
    "        )\n",
    "\n",
    "    fig.update_layout(\n",
    "        title=title or f\"{tag}\",\n",
    "        xaxis_title=(\"Step\" if xaxis == \"step\" else \"Wall Time\"),\n",
    "        yaxis_title=\"Reward\",\n",
    "        template=\"plotly_white\",\n",
    "        hovermode=\"x unified\",\n",
    "        legend=dict(\n",
    "            yanchor=\"bottom\",\n",
    "            y=0.01,\n",
    "            xanchor=\"right\",\n",
    "            x=0.99,\n",
    "            bgcolor=\"rgba(255,255,255,0.7)\",  # light background\n",
    "            bordercolor=\"black\",\n",
    "            borderwidth=1,\n",
    "        ),\n",
    "        margin=dict(l=60, r=20, t=50, b=50),\n",
    "        height=600,\n",
    "    )\n",
    "\n",
    "    if save_html:\n",
    "        # include_plotlyjs=\"inline\" -> single, self-contained file (bigger)\n",
    "        # include_plotlyjs=\"cdn\"    -> smaller file, but needs internet\n",
    "        pio.write_html(\n",
    "            fig,\n",
    "            file=save_html,\n",
    "            full_html=False,\n",
    "            include_plotlyjs=include_plotlyjs,\n",
    "            auto_open=False,\n",
    "        )\n",
    "        print(f\"Saved HTML to: {save_html} (include_plotlyjs={include_plotlyjs})\")\n",
    "\n",
    "    fig.show()"
   ]
  },
  {
   "cell_type": "code",
   "execution_count": 4,
   "id": "9cf20af9-ab2f-4955-8954-14e045ed22ad",
   "metadata": {},
   "outputs": [
    {
     "name": "stdout",
     "output_type": "stream",
     "text": [
      "Saved HTML to: ../docs/assets/math_1k.html (include_plotlyjs=cdn)\n"
     ]
    },
    {
     "data": {
      "application/vnd.plotly.v1+json": {
       "config": {
        "plotlyServerURL": "https://plot.ly"
       },
       "data": [
        {
         "customdata": [
          "0 ms",
          "04:51.55",
          "11:08.39",
          "17:11.65",
          "21:60.00",
          "26:55.50",
          "32:02.59",
          "36:30.05",
          "41:14.78",
          "45:41.67",
          "51:27.12",
          "01:01:56.54",
          "01:11:37.00",
          "01:32:14.71",
          "01:46:43.67"
         ],
         "hovertemplate": "<br />Step: %{x}<br>Δt: %{customdata}<br>value: %{y}",
         "legendgroup": "Qwen3 0.6B, Reinforce",
         "mode": "lines",
         "name": "Qwen3 0.6B, Reinforce",
         "opacity": 0.35,
         "type": "scatter",
         "x": [
          0,
          1,
          2,
          3,
          4,
          5,
          6,
          7,
          8,
          9,
          10,
          11,
          12,
          13,
          14
         ],
         "y": [
          0.26346153020858765,
          0.3270833194255829,
          0.8005319237709045,
          0.8564516305923462,
          0.8340708017349243,
          0.917475700378418,
          0.829365074634552,
          0.8526785969734192,
          0.7058823704719543,
          0.75,
          0.792553186416626,
          0.8944256901741028,
          0.9414498209953308,
          0.9529361128807068,
          0.9721534848213196
         ]
        },
        {
         "customdata": [
          "0 ms",
          "03:09.81",
          "06:16.04",
          "09:12.54",
          "12:20.28",
          "15:23.02",
          "18:30.83",
          "21:55.55",
          "25:10.31",
          "28:52.91",
          "32:44.18",
          "36:59.58",
          "41:34.44",
          "46:14.72",
          "50:59.57",
          "01:00:40.31",
          "01:06:07.32",
          "01:11:37.86",
          "01:17:30.10"
         ],
         "hovertemplate": "<br />Step: %{x}<br>Δt: %{customdata}<br>value: %{y}",
         "legendgroup": "Qwen2 0.5B Instruct, Reinforce",
         "mode": "lines",
         "name": "Qwen2 0.5B Instruct, Reinforce",
         "opacity": 0.35,
         "type": "scatter",
         "x": [
          0,
          1,
          2,
          3,
          4,
          5,
          6,
          7,
          8,
          9,
          10,
          11,
          12,
          13,
          14,
          15,
          16,
          17,
          18
         ],
         "y": [
          0.550000011920929,
          0.6704545617103577,
          0.5357142686843872,
          0.3083333373069763,
          0.6973684430122375,
          0.6195651888847351,
          0.699999988079071,
          0.7166666388511658,
          0.8486841917037964,
          0.8024193644523621,
          0.7649253606796265,
          0.8495575189590454,
          0.8706140518188477,
          0.9190140962600708,
          0.919921875,
          0.9527027010917664,
          0.9424242377281188,
          0.9222561120986938,
          0.92592591047287
         ]
        },
        {
         "customdata": [
          "0 ms",
          "05:27.60",
          "11:33.05",
          "17:11.15",
          "23:12.72",
          "29:00.61",
          "35:34.42",
          "41:24.34",
          "47:27.86",
          "52:22.15",
          "58:03.65",
          "01:04:11.38",
          "01:09:36.81",
          "01:15:56.74",
          "01:21:25.88"
         ],
         "hovertemplate": "<br />Step: %{x}<br>Δt: %{customdata}<br>value: %{y}",
         "legendgroup": "Qwen2 0.5B Instruct, Reinforce (Tahoe)",
         "mode": "lines",
         "name": "Qwen2 0.5B Instruct, Reinforce (Tahoe)",
         "opacity": 0.35,
         "type": "scatter",
         "x": [
          0,
          1,
          2,
          3,
          4,
          5,
          6,
          7,
          8,
          9,
          10,
          11,
          12,
          13,
          14
         ],
         "y": [
          0.5961538553237915,
          0.6800000071525574,
          0.7844827771186829,
          0.7208333611488342,
          0.7644230723381042,
          0.6780303120613098,
          0.6737288236618042,
          0.645348846912384,
          0.7567567825317383,
          0.8203125,
          0.807692289352417,
          0.8656250238418579,
          0.858433723449707,
          0.9047619104385376,
          0.9138513803482056
         ]
        },
        {
         "customdata": [
          "0 ms",
          "07:11.93",
          "30:54.28",
          "38:16.88",
          "45:44.47",
          "53:10.75",
          "58:09.98",
          "01:04:40.23",
          "01:17:27.82",
          "01:28:17.62",
          "02:09:26.39",
          "02:21:27.80",
          "02:32:40.50",
          "02:37:40.71",
          "02:47:54.68",
          "02:55:01.50",
          "03:00:01.00",
          "03:06:06.05",
          "03:15:17.65",
          "03:21:49.75"
         ],
         "hovertemplate": "<br />Step: %{x}<br>Δt: %{customdata}<br>value: %{y}",
         "legendgroup": "Qwen3 0.6B, GRPO",
         "mode": "lines",
         "name": "Qwen3 0.6B, GRPO",
         "opacity": 0.35,
         "type": "scatter",
         "x": [
          0,
          1,
          2,
          3,
          4,
          5,
          6,
          7,
          8,
          9,
          10,
          11,
          12,
          13,
          14,
          15,
          16,
          17,
          18,
          19
         ],
         "y": [
          0.26851850748062134,
          0.3193069398403168,
          0.3720930218696594,
          0.33552631735801697,
          0.5797872543334961,
          0.5472972989082336,
          0.2621951103210449,
          0.2587719261646271,
          0.390625,
          0.2596774101257324,
          0.2280000001192093,
          0.2931937277317047,
          0.25,
          0.2122092992067337,
          0.2958333194255829,
          0.5483871102333069,
          0.550000011920929,
          0.7835366129875183,
          0.7139175534248352,
          0.6049107313156128
         ]
        },
        {
         "customdata": [
          "0 ms",
          "03:31.57",
          "07:27.17",
          "11:43.02",
          "15:38.09",
          "19:28.46",
          "23:02.36",
          "26:24.93",
          "30:45.77",
          "34:38.85",
          "38:38.53",
          "43:03.28",
          "47:06.59",
          "51:01.82",
          "55:09.48",
          "01:00:15.37",
          "01:04:05.12",
          "01:08:24.02",
          "01:12:09.05",
          "01:16:44.70"
         ],
         "hovertemplate": "<br />Step: %{x}<br>Δt: %{customdata}<br>value: %{y}",
         "legendgroup": "Qwen2 0.5B, GRPO",
         "mode": "lines",
         "name": "Qwen2 0.5B, GRPO",
         "opacity": 0.35,
         "type": "scatter",
         "x": [
          0,
          1,
          2,
          3,
          4,
          5,
          6,
          7,
          8,
          9,
          10,
          11,
          12,
          13,
          14,
          15,
          16,
          17,
          18,
          19
         ],
         "y": [
          0.6000000238418579,
          0.46590909361839294,
          0.511904776096344,
          0.6600000262260437,
          0.8229166865348816,
          0.6574074029922485,
          0.7019230723381042,
          0.77173912525177,
          0.7743902206420898,
          0.6388888955116272,
          0.6764705777168274,
          0.6931818127632141,
          0.7870370149612427,
          0.6402438879013062,
          0.859375,
          0.7661290168762207,
          0.738095223903656,
          0.8500000238418579,
          0.8055555820465088,
          0.8185483813285828
         ]
        }
       ],
       "layout": {
        "height": 600,
        "hovermode": "x unified",
        "legend": {
         "bgcolor": "rgba(255,255,255,0.7)",
         "bordercolor": "black",
         "borderwidth": 1,
         "x": 0.99,
         "xanchor": "right",
         "y": 0.01,
         "yanchor": "bottom"
        },
        "margin": {
         "b": 50,
         "l": 60,
         "r": 20,
         "t": 50
        },
        "template": {
         "data": {
          "bar": [
           {
            "error_x": {
             "color": "#2a3f5f"
            },
            "error_y": {
             "color": "#2a3f5f"
            },
            "marker": {
             "line": {
              "color": "white",
              "width": 0.5
             },
             "pattern": {
              "fillmode": "overlay",
              "size": 10,
              "solidity": 0.2
             }
            },
            "type": "bar"
           }
          ],
          "barpolar": [
           {
            "marker": {
             "line": {
              "color": "white",
              "width": 0.5
             },
             "pattern": {
              "fillmode": "overlay",
              "size": 10,
              "solidity": 0.2
             }
            },
            "type": "barpolar"
           }
          ],
          "carpet": [
           {
            "aaxis": {
             "endlinecolor": "#2a3f5f",
             "gridcolor": "#C8D4E3",
             "linecolor": "#C8D4E3",
             "minorgridcolor": "#C8D4E3",
             "startlinecolor": "#2a3f5f"
            },
            "baxis": {
             "endlinecolor": "#2a3f5f",
             "gridcolor": "#C8D4E3",
             "linecolor": "#C8D4E3",
             "minorgridcolor": "#C8D4E3",
             "startlinecolor": "#2a3f5f"
            },
            "type": "carpet"
           }
          ],
          "choropleth": [
           {
            "colorbar": {
             "outlinewidth": 0,
             "ticks": ""
            },
            "type": "choropleth"
           }
          ],
          "contour": [
           {
            "colorbar": {
             "outlinewidth": 0,
             "ticks": ""
            },
            "colorscale": [
             [
              0,
              "#0d0887"
             ],
             [
              0.1111111111111111,
              "#46039f"
             ],
             [
              0.2222222222222222,
              "#7201a8"
             ],
             [
              0.3333333333333333,
              "#9c179e"
             ],
             [
              0.4444444444444444,
              "#bd3786"
             ],
             [
              0.5555555555555556,
              "#d8576b"
             ],
             [
              0.6666666666666666,
              "#ed7953"
             ],
             [
              0.7777777777777778,
              "#fb9f3a"
             ],
             [
              0.8888888888888888,
              "#fdca26"
             ],
             [
              1,
              "#f0f921"
             ]
            ],
            "type": "contour"
           }
          ],
          "contourcarpet": [
           {
            "colorbar": {
             "outlinewidth": 0,
             "ticks": ""
            },
            "type": "contourcarpet"
           }
          ],
          "heatmap": [
           {
            "colorbar": {
             "outlinewidth": 0,
             "ticks": ""
            },
            "colorscale": [
             [
              0,
              "#0d0887"
             ],
             [
              0.1111111111111111,
              "#46039f"
             ],
             [
              0.2222222222222222,
              "#7201a8"
             ],
             [
              0.3333333333333333,
              "#9c179e"
             ],
             [
              0.4444444444444444,
              "#bd3786"
             ],
             [
              0.5555555555555556,
              "#d8576b"
             ],
             [
              0.6666666666666666,
              "#ed7953"
             ],
             [
              0.7777777777777778,
              "#fb9f3a"
             ],
             [
              0.8888888888888888,
              "#fdca26"
             ],
             [
              1,
              "#f0f921"
             ]
            ],
            "type": "heatmap"
           }
          ],
          "histogram": [
           {
            "marker": {
             "pattern": {
              "fillmode": "overlay",
              "size": 10,
              "solidity": 0.2
             }
            },
            "type": "histogram"
           }
          ],
          "histogram2d": [
           {
            "colorbar": {
             "outlinewidth": 0,
             "ticks": ""
            },
            "colorscale": [
             [
              0,
              "#0d0887"
             ],
             [
              0.1111111111111111,
              "#46039f"
             ],
             [
              0.2222222222222222,
              "#7201a8"
             ],
             [
              0.3333333333333333,
              "#9c179e"
             ],
             [
              0.4444444444444444,
              "#bd3786"
             ],
             [
              0.5555555555555556,
              "#d8576b"
             ],
             [
              0.6666666666666666,
              "#ed7953"
             ],
             [
              0.7777777777777778,
              "#fb9f3a"
             ],
             [
              0.8888888888888888,
              "#fdca26"
             ],
             [
              1,
              "#f0f921"
             ]
            ],
            "type": "histogram2d"
           }
          ],
          "histogram2dcontour": [
           {
            "colorbar": {
             "outlinewidth": 0,
             "ticks": ""
            },
            "colorscale": [
             [
              0,
              "#0d0887"
             ],
             [
              0.1111111111111111,
              "#46039f"
             ],
             [
              0.2222222222222222,
              "#7201a8"
             ],
             [
              0.3333333333333333,
              "#9c179e"
             ],
             [
              0.4444444444444444,
              "#bd3786"
             ],
             [
              0.5555555555555556,
              "#d8576b"
             ],
             [
              0.6666666666666666,
              "#ed7953"
             ],
             [
              0.7777777777777778,
              "#fb9f3a"
             ],
             [
              0.8888888888888888,
              "#fdca26"
             ],
             [
              1,
              "#f0f921"
             ]
            ],
            "type": "histogram2dcontour"
           }
          ],
          "mesh3d": [
           {
            "colorbar": {
             "outlinewidth": 0,
             "ticks": ""
            },
            "type": "mesh3d"
           }
          ],
          "parcoords": [
           {
            "line": {
             "colorbar": {
              "outlinewidth": 0,
              "ticks": ""
             }
            },
            "type": "parcoords"
           }
          ],
          "pie": [
           {
            "automargin": true,
            "type": "pie"
           }
          ],
          "scatter": [
           {
            "fillpattern": {
             "fillmode": "overlay",
             "size": 10,
             "solidity": 0.2
            },
            "type": "scatter"
           }
          ],
          "scatter3d": [
           {
            "line": {
             "colorbar": {
              "outlinewidth": 0,
              "ticks": ""
             }
            },
            "marker": {
             "colorbar": {
              "outlinewidth": 0,
              "ticks": ""
             }
            },
            "type": "scatter3d"
           }
          ],
          "scattercarpet": [
           {
            "marker": {
             "colorbar": {
              "outlinewidth": 0,
              "ticks": ""
             }
            },
            "type": "scattercarpet"
           }
          ],
          "scattergeo": [
           {
            "marker": {
             "colorbar": {
              "outlinewidth": 0,
              "ticks": ""
             }
            },
            "type": "scattergeo"
           }
          ],
          "scattergl": [
           {
            "marker": {
             "colorbar": {
              "outlinewidth": 0,
              "ticks": ""
             }
            },
            "type": "scattergl"
           }
          ],
          "scattermap": [
           {
            "marker": {
             "colorbar": {
              "outlinewidth": 0,
              "ticks": ""
             }
            },
            "type": "scattermap"
           }
          ],
          "scattermapbox": [
           {
            "marker": {
             "colorbar": {
              "outlinewidth": 0,
              "ticks": ""
             }
            },
            "type": "scattermapbox"
           }
          ],
          "scatterpolar": [
           {
            "marker": {
             "colorbar": {
              "outlinewidth": 0,
              "ticks": ""
             }
            },
            "type": "scatterpolar"
           }
          ],
          "scatterpolargl": [
           {
            "marker": {
             "colorbar": {
              "outlinewidth": 0,
              "ticks": ""
             }
            },
            "type": "scatterpolargl"
           }
          ],
          "scatterternary": [
           {
            "marker": {
             "colorbar": {
              "outlinewidth": 0,
              "ticks": ""
             }
            },
            "type": "scatterternary"
           }
          ],
          "surface": [
           {
            "colorbar": {
             "outlinewidth": 0,
             "ticks": ""
            },
            "colorscale": [
             [
              0,
              "#0d0887"
             ],
             [
              0.1111111111111111,
              "#46039f"
             ],
             [
              0.2222222222222222,
              "#7201a8"
             ],
             [
              0.3333333333333333,
              "#9c179e"
             ],
             [
              0.4444444444444444,
              "#bd3786"
             ],
             [
              0.5555555555555556,
              "#d8576b"
             ],
             [
              0.6666666666666666,
              "#ed7953"
             ],
             [
              0.7777777777777778,
              "#fb9f3a"
             ],
             [
              0.8888888888888888,
              "#fdca26"
             ],
             [
              1,
              "#f0f921"
             ]
            ],
            "type": "surface"
           }
          ],
          "table": [
           {
            "cells": {
             "fill": {
              "color": "#EBF0F8"
             },
             "line": {
              "color": "white"
             }
            },
            "header": {
             "fill": {
              "color": "#C8D4E3"
             },
             "line": {
              "color": "white"
             }
            },
            "type": "table"
           }
          ]
         },
         "layout": {
          "annotationdefaults": {
           "arrowcolor": "#2a3f5f",
           "arrowhead": 0,
           "arrowwidth": 1
          },
          "autotypenumbers": "strict",
          "coloraxis": {
           "colorbar": {
            "outlinewidth": 0,
            "ticks": ""
           }
          },
          "colorscale": {
           "diverging": [
            [
             0,
             "#8e0152"
            ],
            [
             0.1,
             "#c51b7d"
            ],
            [
             0.2,
             "#de77ae"
            ],
            [
             0.3,
             "#f1b6da"
            ],
            [
             0.4,
             "#fde0ef"
            ],
            [
             0.5,
             "#f7f7f7"
            ],
            [
             0.6,
             "#e6f5d0"
            ],
            [
             0.7,
             "#b8e186"
            ],
            [
             0.8,
             "#7fbc41"
            ],
            [
             0.9,
             "#4d9221"
            ],
            [
             1,
             "#276419"
            ]
           ],
           "sequential": [
            [
             0,
             "#0d0887"
            ],
            [
             0.1111111111111111,
             "#46039f"
            ],
            [
             0.2222222222222222,
             "#7201a8"
            ],
            [
             0.3333333333333333,
             "#9c179e"
            ],
            [
             0.4444444444444444,
             "#bd3786"
            ],
            [
             0.5555555555555556,
             "#d8576b"
            ],
            [
             0.6666666666666666,
             "#ed7953"
            ],
            [
             0.7777777777777778,
             "#fb9f3a"
            ],
            [
             0.8888888888888888,
             "#fdca26"
            ],
            [
             1,
             "#f0f921"
            ]
           ],
           "sequentialminus": [
            [
             0,
             "#0d0887"
            ],
            [
             0.1111111111111111,
             "#46039f"
            ],
            [
             0.2222222222222222,
             "#7201a8"
            ],
            [
             0.3333333333333333,
             "#9c179e"
            ],
            [
             0.4444444444444444,
             "#bd3786"
            ],
            [
             0.5555555555555556,
             "#d8576b"
            ],
            [
             0.6666666666666666,
             "#ed7953"
            ],
            [
             0.7777777777777778,
             "#fb9f3a"
            ],
            [
             0.8888888888888888,
             "#fdca26"
            ],
            [
             1,
             "#f0f921"
            ]
           ]
          },
          "colorway": [
           "#636efa",
           "#EF553B",
           "#00cc96",
           "#ab63fa",
           "#FFA15A",
           "#19d3f3",
           "#FF6692",
           "#B6E880",
           "#FF97FF",
           "#FECB52"
          ],
          "font": {
           "color": "#2a3f5f"
          },
          "geo": {
           "bgcolor": "white",
           "lakecolor": "white",
           "landcolor": "white",
           "showlakes": true,
           "showland": true,
           "subunitcolor": "#C8D4E3"
          },
          "hoverlabel": {
           "align": "left"
          },
          "hovermode": "closest",
          "mapbox": {
           "style": "light"
          },
          "paper_bgcolor": "white",
          "plot_bgcolor": "white",
          "polar": {
           "angularaxis": {
            "gridcolor": "#EBF0F8",
            "linecolor": "#EBF0F8",
            "ticks": ""
           },
           "bgcolor": "white",
           "radialaxis": {
            "gridcolor": "#EBF0F8",
            "linecolor": "#EBF0F8",
            "ticks": ""
           }
          },
          "scene": {
           "xaxis": {
            "backgroundcolor": "white",
            "gridcolor": "#DFE8F3",
            "gridwidth": 2,
            "linecolor": "#EBF0F8",
            "showbackground": true,
            "ticks": "",
            "zerolinecolor": "#EBF0F8"
           },
           "yaxis": {
            "backgroundcolor": "white",
            "gridcolor": "#DFE8F3",
            "gridwidth": 2,
            "linecolor": "#EBF0F8",
            "showbackground": true,
            "ticks": "",
            "zerolinecolor": "#EBF0F8"
           },
           "zaxis": {
            "backgroundcolor": "white",
            "gridcolor": "#DFE8F3",
            "gridwidth": 2,
            "linecolor": "#EBF0F8",
            "showbackground": true,
            "ticks": "",
            "zerolinecolor": "#EBF0F8"
           }
          },
          "shapedefaults": {
           "line": {
            "color": "#2a3f5f"
           }
          },
          "ternary": {
           "aaxis": {
            "gridcolor": "#DFE8F3",
            "linecolor": "#A2B1C6",
            "ticks": ""
           },
           "baxis": {
            "gridcolor": "#DFE8F3",
            "linecolor": "#A2B1C6",
            "ticks": ""
           },
           "bgcolor": "white",
           "caxis": {
            "gridcolor": "#DFE8F3",
            "linecolor": "#A2B1C6",
            "ticks": ""
           }
          },
          "title": {
           "x": 0.05
          },
          "xaxis": {
           "automargin": true,
           "gridcolor": "#EBF0F8",
           "linecolor": "#EBF0F8",
           "ticks": "",
           "title": {
            "standoff": 15
           },
           "zerolinecolor": "#EBF0F8",
           "zerolinewidth": 2
          },
          "yaxis": {
           "automargin": true,
           "gridcolor": "#EBF0F8",
           "linecolor": "#EBF0F8",
           "ticks": "",
           "title": {
            "standoff": 15
           },
           "zerolinecolor": "#EBF0F8",
           "zerolinewidth": 2
          }
         }
        },
        "title": {
         "text": "Reward for Various Training Runs on Math 1k"
        },
        "xaxis": {
         "title": {
          "text": "Step"
         }
        },
        "yaxis": {
         "title": {
          "text": "Reward"
         }
        }
       }
      },
      "image/png": "[encoded data removed]"
     },
     "metadata": {},
     "output_type": "display_data"
    }
   ],
   "source": [
    "PREFIX = \"/Users/kahnvex/projects/peralta/runs/\"\n",
    "\n",
    "plot_tb_scalars(\n",
    "    {\n",
    "        \"Qwen3 0.6B, Reinforce\": f\"{PREFIX}2025-09-10_11-34-51/reinforce_qwen_qwen3-0.6b_math_1k\",\n",
    "        \"Qwen2 0.5B Instruct, Reinforce\": f\"{PREFIX}2025-09-03_10-21-22/tensorboard\",\n",
    "        \"Qwen2 0.5B Instruct, Reinforce (Tahoe)\": f\"{PREFIX}2025-08-29_08-16-56/tensorboard\",\n",
    "        \"Qwen3 0.6B, GRPO\": f\"{PREFIX}2025-09-10_16-29-36/grpo_qwen_qwen3-0.6b_math_1k\",\n",
    "        \"Qwen2 0.5B, GRPO\": f\"{PREFIX}2025-09-11_12-19-38/grpo_qwen_qwen2-0.5b-instruct_math_1k\",\n",
    "    },\n",
    "    tag=\"all_rewards\",\n",
    "    xaxis=\"step\",\n",
    "    title=\"Reward for Various Training Runs on Math 1k\",\n",
    "    save_html=\"../docs/assets/math_1k.html\",\n",
    ")"
   ]
  },
  {
   "cell_type": "code",
   "execution_count": 6,
   "id": "359dbe2e-a0ca-46bd-9990-e13302861922",
   "metadata": {},
   "outputs": [
    {
     "name": "stdout",
     "output_type": "stream",
     "text": [
      "Saved HTML to: ../docs/assets/math_10k.html (include_plotlyjs=cdn)\n"
     ]
    },
    {
     "data": {
      "application/vnd.plotly.v1+json": {
       "config": {
        "plotlyServerURL": "https://plot.ly"
       },
       "data": [
        {
         "customdata": [
          "0 ms",
          "03:46.13",
          "07:26.12",
          "17:56.41",
          "21:28.35",
          "25:01.50",
          "28:27.44",
          "32:18.75",
          "35:52.50",
          "39:25.04",
          "43:15.22",
          "48:23.15",
          "52:57.32",
          "57:16.05",
          "01:01:19.75",
          "01:05:47.19",
          "01:10:07.14",
          "01:15:23.99",
          "01:19:32.56",
          "01:24:19.33",
          "01:28:38.82",
          "01:36:33.20",
          "01:42:49.96",
          "01:48:38.33",
          "01:57:05.60",
          "02:01:58.82",
          "02:06:37.96",
          "02:25:47.21",
          "02:42:23.07",
          "02:59:06.30",
          "03:10:28.16"
         ],
         "hovertemplate": "<br />Step: %{x}<br>Δt: %{customdata}<br>value: %{y}",
         "legendgroup": "Qwen2 0.5B Instruct, Reinforce",
         "mode": "lines",
         "name": "Qwen2 0.5B Instruct, Reinforce",
         "opacity": 0.35,
         "type": "scatter",
         "x": [
          0,
          1,
          2,
          3,
          4,
          5,
          6,
          7,
          8,
          9,
          10,
          11,
          12,
          13,
          14,
          15,
          16,
          17,
          18,
          19,
          20,
          21,
          22,
          23,
          24,
          25,
          26,
          27,
          28,
          29,
          30
         ],
         "y": [
          0.3583333194255829,
          0.31481480598449707,
          0.3499999940395355,
          0.3863636255264282,
          0.34166666865348816,
          0.3194444477558136,
          0.32692307233810425,
          0.47058823704719543,
          0.567307710647583,
          0.5775862336158752,
          0.5952380895614624,
          0.5535714030265808,
          0.5714285969734192,
          0.5694444179534912,
          0.681034505367279,
          0.6197916865348816,
          0.6833333373069763,
          0.6984127163887024,
          0.7900000214576721,
          0.728723406791687,
          0.7067901492118835,
          0.7422566413879395,
          0.8491379022598267,
          0.6770833134651184,
          0.6788079738616943,
          0.7301587462425232,
          0.8299999833106995,
          0.8064079284667969,
          0.8631198406219482,
          0.8333333134651184,
          0.8109567761421204
         ]
        },
        {
         "customdata": [
          "0 ms",
          "04:35.94",
          "11:36.20",
          "19:29.24",
          "29:08.67",
          "39:26.42",
          "45:23.79",
          "53:22.41",
          "58:53.09",
          "01:03:48.49",
          "01:08:33.20",
          "01:14:39.20",
          "01:22:37.70",
          "01:35:46.86",
          "02:00:35.89",
          "02:43:11.53",
          "03:51:51.93",
          "04:58:57.11",
          "06:59:28.92",
          "07:52:48.82",
          "08:28:54.00",
          "09:55:39.99",
          "10:28:06.04"
         ],
         "hovertemplate": "<br />Step: %{x}<br>Δt: %{customdata}<br>value: %{y}",
         "legendgroup": "Qwen3 0.6B, Reinforce",
         "mode": "lines",
         "name": "Qwen3 0.6B, Reinforce",
         "opacity": 0.35,
         "type": "scatter",
         "x": [
          0,
          1,
          2,
          3,
          4,
          5,
          6,
          7,
          8,
          9,
          10,
          11,
          12,
          13,
          14,
          15,
          16,
          17,
          18,
          19,
          20,
          21,
          22
         ],
         "y": [
          0.19262294471263883,
          0.2420634925365448,
          0.6410256624221802,
          0.7058823704719543,
          0.726331353187561,
          0.6944444179534912,
          0.8010203838348389,
          0.7030075192451477,
          0.7822580933570862,
          0.693965494632721,
          0.7456140518188477,
          0.8070651888847351,
          0.8673912882804871,
          0.8020833134651184,
          0.8442623019218445,
          0.8527080416679382,
          0.8647836446762085,
          0.8540790677070618,
          0.8859044909477234,
          0.8990083336830139,
          0.9386363625526428,
          0.991891086101532,
          0.9834162592887878
         ]
        },
        {
         "customdata": [
          "0 ms",
          "03:59.03",
          "08:00.41",
          "14:17.16",
          "18:36.26",
          "22:22.07",
          "26:26.87",
          "30:52.41",
          "35:45.41",
          "40:07.61",
          "44:04.86",
          "47:51.31",
          "51:55.40",
          "55:59.96",
          "01:00:29.40",
          "01:06:12.85",
          "01:11:41.75",
          "01:18:23.67",
          "01:23:49.61",
          "01:28:33.80",
          "01:34:00.64",
          "01:39:40.52",
          "01:46:43.76",
          "01:51:13.43",
          "01:55:34.31",
          "02:00:05.48",
          "02:07:56.98",
          "02:13:01.37",
          "02:18:59.45",
          "02:23:20.32",
          "02:28:47.95",
          "02:35:04.93",
          "02:39:43.50",
          "02:44:33.18",
          "02:48:52.92",
          "02:54:33.68",
          "03:00:30.06",
          "03:06:33.38",
          "03:11:38.37",
          "03:20:05.54"
         ],
         "hovertemplate": "<br />Step: %{x}<br>Δt: %{customdata}<br>value: %{y}",
         "legendgroup": "Qwen2 0.5B Instruct, GRPO",
         "mode": "lines",
         "name": "Qwen2 0.5B Instruct, GRPO",
         "opacity": 0.35,
         "type": "scatter",
         "x": [
          0,
          1,
          2,
          3,
          4,
          5,
          6,
          7,
          8,
          9,
          10,
          11,
          12,
          13,
          14,
          15,
          16,
          17,
          18,
          19,
          20,
          21,
          22,
          23,
          24,
          25,
          26,
          27,
          28,
          29,
          30,
          31,
          32,
          33,
          34,
          35,
          36,
          37,
          38,
          39
         ],
         "y": [
          0.3888888955116272,
          0.2954545319080353,
          0.3671875,
          0.3303571343421936,
          0.3839285671710968,
          0.554347813129425,
          0.5288461446762085,
          0.5185185074806213,
          0.550000011920929,
          0.5517241358757019,
          0.5,
          0.734375,
          0.6527777910232544,
          0.74609375,
          0.7239583134651184,
          0.7425000071525574,
          0.723809540271759,
          0.7706896662712097,
          0.6957364082336426,
          0.7723214030265808,
          0.7652173638343811,
          0.7696850299835205,
          0.7314814925193787,
          0.5833333134651184,
          0.6619318127632141,
          0.7933333516120911,
          0.7325581312179565,
          0.726190447807312,
          0.73893803358078,
          0.7705479264259338,
          0.8386363387107849,
          0.7071428298950195,
          0.6111111044883728,
          0.801886796951294,
          0.8108108043670654,
          0.8675373196601868,
          0.857723593711853,
          0.8866666555404663,
          0.8094059228897095,
          0.8302631378173828
         ]
        }
       ],
       "layout": {
        "height": 600,
        "hovermode": "x unified",
        "legend": {
         "bgcolor": "rgba(255,255,255,0.7)",
         "bordercolor": "black",
         "borderwidth": 1,
         "x": 0.99,
         "xanchor": "right",
         "y": 0.01,
         "yanchor": "bottom"
        },
        "margin": {
         "b": 50,
         "l": 60,
         "r": 20,
         "t": 50
        },
        "template": {
         "data": {
          "bar": [
           {
            "error_x": {
             "color": "#2a3f5f"
            },
            "error_y": {
             "color": "#2a3f5f"
            },
            "marker": {
             "line": {
              "color": "white",
              "width": 0.5
             },
             "pattern": {
              "fillmode": "overlay",
              "size": 10,
              "solidity": 0.2
             }
            },
            "type": "bar"
           }
          ],
          "barpolar": [
           {
            "marker": {
             "line": {
              "color": "white",
              "width": 0.5
             },
             "pattern": {
              "fillmode": "overlay",
              "size": 10,
              "solidity": 0.2
             }
            },
            "type": "barpolar"
           }
          ],
          "carpet": [
           {
            "aaxis": {
             "endlinecolor": "#2a3f5f",
             "gridcolor": "#C8D4E3",
             "linecolor": "#C8D4E3",
             "minorgridcolor": "#C8D4E3",
             "startlinecolor": "#2a3f5f"
            },
            "baxis": {
             "endlinecolor": "#2a3f5f",
             "gridcolor": "#C8D4E3",
             "linecolor": "#C8D4E3",
             "minorgridcolor": "#C8D4E3",
             "startlinecolor": "#2a3f5f"
            },
            "type": "carpet"
           }
          ],
          "choropleth": [
           {
            "colorbar": {
             "outlinewidth": 0,
             "ticks": ""
            },
            "type": "choropleth"
           }
          ],
          "contour": [
           {
            "colorbar": {
             "outlinewidth": 0,
             "ticks": ""
            },
            "colorscale": [
             [
              0,
              "#0d0887"
             ],
             [
              0.1111111111111111,
              "#46039f"
             ],
             [
              0.2222222222222222,
              "#7201a8"
             ],
             [
              0.3333333333333333,
              "#9c179e"
             ],
             [
              0.4444444444444444,
              "#bd3786"
             ],
             [
              0.5555555555555556,
              "#d8576b"
             ],
             [
              0.6666666666666666,
              "#ed7953"
             ],
             [
              0.7777777777777778,
              "#fb9f3a"
             ],
             [
              0.8888888888888888,
              "#fdca26"
             ],
             [
              1,
              "#f0f921"
             ]
            ],
            "type": "contour"
           }
          ],
          "contourcarpet": [
           {
            "colorbar": {
             "outlinewidth": 0,
             "ticks": ""
            },
            "type": "contourcarpet"
           }
          ],
          "heatmap": [
           {
            "colorbar": {
             "outlinewidth": 0,
             "ticks": ""
            },
            "colorscale": [
             [
              0,
              "#0d0887"
             ],
             [
              0.1111111111111111,
              "#46039f"
             ],
             [
              0.2222222222222222,
              "#7201a8"
             ],
             [
              0.3333333333333333,
              "#9c179e"
             ],
             [
              0.4444444444444444,
              "#bd3786"
             ],
             [
              0.5555555555555556,
              "#d8576b"
             ],
             [
              0.6666666666666666,
              "#ed7953"
             ],
             [
              0.7777777777777778,
              "#fb9f3a"
             ],
             [
              0.8888888888888888,
              "#fdca26"
             ],
             [
              1,
              "#f0f921"
             ]
            ],
            "type": "heatmap"
           }
          ],
          "histogram": [
           {
            "marker": {
             "pattern": {
              "fillmode": "overlay",
              "size": 10,
              "solidity": 0.2
             }
            },
            "type": "histogram"
           }
          ],
          "histogram2d": [
           {
            "colorbar": {
             "outlinewidth": 0,
             "ticks": ""
            },
            "colorscale": [
             [
              0,
              "#0d0887"
             ],
             [
              0.1111111111111111,
              "#46039f"
             ],
             [
              0.2222222222222222,
              "#7201a8"
             ],
             [
              0.3333333333333333,
              "#9c179e"
             ],
             [
              0.4444444444444444,
              "#bd3786"
             ],
             [
              0.5555555555555556,
              "#d8576b"
             ],
             [
              0.6666666666666666,
              "#ed7953"
             ],
             [
              0.7777777777777778,
              "#fb9f3a"
             ],
             [
              0.8888888888888888,
              "#fdca26"
             ],
             [
              1,
              "#f0f921"
             ]
            ],
            "type": "histogram2d"
           }
          ],
          "histogram2dcontour": [
           {
            "colorbar": {
             "outlinewidth": 0,
             "ticks": ""
            },
            "colorscale": [
             [
              0,
              "#0d0887"
             ],
             [
              0.1111111111111111,
              "#46039f"
             ],
             [
              0.2222222222222222,
              "#7201a8"
             ],
             [
              0.3333333333333333,
              "#9c179e"
             ],
             [
              0.4444444444444444,
              "#bd3786"
             ],
             [
              0.5555555555555556,
              "#d8576b"
             ],
             [
              0.6666666666666666,
              "#ed7953"
             ],
             [
              0.7777777777777778,
              "#fb9f3a"
             ],
             [
              0.8888888888888888,
              "#fdca26"
             ],
             [
              1,
              "#f0f921"
             ]
            ],
            "type": "histogram2dcontour"
           }
          ],
          "mesh3d": [
           {
            "colorbar": {
             "outlinewidth": 0,
             "ticks": ""
            },
            "type": "mesh3d"
           }
          ],
          "parcoords": [
           {
            "line": {
             "colorbar": {
              "outlinewidth": 0,
              "ticks": ""
             }
            },
            "type": "parcoords"
           }
          ],
          "pie": [
           {
            "automargin": true,
            "type": "pie"
           }
          ],
          "scatter": [
           {
            "fillpattern": {
             "fillmode": "overlay",
             "size": 10,
             "solidity": 0.2
            },
            "type": "scatter"
           }
          ],
          "scatter3d": [
           {
            "line": {
             "colorbar": {
              "outlinewidth": 0,
              "ticks": ""
             }
            },
            "marker": {
             "colorbar": {
              "outlinewidth": 0,
              "ticks": ""
             }
            },
            "type": "scatter3d"
           }
          ],
          "scattercarpet": [
           {
            "marker": {
             "colorbar": {
              "outlinewidth": 0,
              "ticks": ""
             }
            },
            "type": "scattercarpet"
           }
          ],
          "scattergeo": [
           {
            "marker": {
             "colorbar": {
              "outlinewidth": 0,
              "ticks": ""
             }
            },
            "type": "scattergeo"
           }
          ],
          "scattergl": [
           {
            "marker": {
             "colorbar": {
              "outlinewidth": 0,
              "ticks": ""
             }
            },
            "type": "scattergl"
           }
          ],
          "scattermap": [
           {
            "marker": {
             "colorbar": {
              "outlinewidth": 0,
              "ticks": ""
             }
            },
            "type": "scattermap"
           }
          ],
          "scattermapbox": [
           {
            "marker": {
             "colorbar": {
              "outlinewidth": 0,
              "ticks": ""
             }
            },
            "type": "scattermapbox"
           }
          ],
          "scatterpolar": [
           {
            "marker": {
             "colorbar": {
              "outlinewidth": 0,
              "ticks": ""
             }
            },
            "type": "scatterpolar"
           }
          ],
          "scatterpolargl": [
           {
            "marker": {
             "colorbar": {
              "outlinewidth": 0,
              "ticks": ""
             }
            },
            "type": "scatterpolargl"
           }
          ],
          "scatterternary": [
           {
            "marker": {
             "colorbar": {
              "outlinewidth": 0,
              "ticks": ""
             }
            },
            "type": "scatterternary"
           }
          ],
          "surface": [
           {
            "colorbar": {
             "outlinewidth": 0,
             "ticks": ""
            },
            "colorscale": [
             [
              0,
              "#0d0887"
             ],
             [
              0.1111111111111111,
              "#46039f"
             ],
             [
              0.2222222222222222,
              "#7201a8"
             ],
             [
              0.3333333333333333,
              "#9c179e"
             ],
             [
              0.4444444444444444,
              "#bd3786"
             ],
             [
              0.5555555555555556,
              "#d8576b"
             ],
             [
              0.6666666666666666,
              "#ed7953"
             ],
             [
              0.7777777777777778,
              "#fb9f3a"
             ],
             [
              0.8888888888888888,
              "#fdca26"
             ],
             [
              1,
              "#f0f921"
             ]
            ],
            "type": "surface"
           }
          ],
          "table": [
           {
            "cells": {
             "fill": {
              "color": "#EBF0F8"
             },
             "line": {
              "color": "white"
             }
            },
            "header": {
             "fill": {
              "color": "#C8D4E3"
             },
             "line": {
              "color": "white"
             }
            },
            "type": "table"
           }
          ]
         },
         "layout": {
          "annotationdefaults": {
           "arrowcolor": "#2a3f5f",
           "arrowhead": 0,
           "arrowwidth": 1
          },
          "autotypenumbers": "strict",
          "coloraxis": {
           "colorbar": {
            "outlinewidth": 0,
            "ticks": ""
           }
          },
          "colorscale": {
           "diverging": [
            [
             0,
             "#8e0152"
            ],
            [
             0.1,
             "#c51b7d"
            ],
            [
             0.2,
             "#de77ae"
            ],
            [
             0.3,
             "#f1b6da"
            ],
            [
             0.4,
             "#fde0ef"
            ],
            [
             0.5,
             "#f7f7f7"
            ],
            [
             0.6,
             "#e6f5d0"
            ],
            [
             0.7,
             "#b8e186"
            ],
            [
             0.8,
             "#7fbc41"
            ],
            [
             0.9,
             "#4d9221"
            ],
            [
             1,
             "#276419"
            ]
           ],
           "sequential": [
            [
             0,
             "#0d0887"
            ],
            [
             0.1111111111111111,
             "#46039f"
            ],
            [
             0.2222222222222222,
             "#7201a8"
            ],
            [
             0.3333333333333333,
             "#9c179e"
            ],
            [
             0.4444444444444444,
             "#bd3786"
            ],
            [
             0.5555555555555556,
             "#d8576b"
            ],
            [
             0.6666666666666666,
             "#ed7953"
            ],
            [
             0.7777777777777778,
             "#fb9f3a"
            ],
            [
             0.8888888888888888,
             "#fdca26"
            ],
            [
             1,
             "#f0f921"
            ]
           ],
           "sequentialminus": [
            [
             0,
             "#0d0887"
            ],
            [
             0.1111111111111111,
             "#46039f"
            ],
            [
             0.2222222222222222,
             "#7201a8"
            ],
            [
             0.3333333333333333,
             "#9c179e"
            ],
            [
             0.4444444444444444,
             "#bd3786"
            ],
            [
             0.5555555555555556,
             "#d8576b"
            ],
            [
             0.6666666666666666,
             "#ed7953"
            ],
            [
             0.7777777777777778,
             "#fb9f3a"
            ],
            [
             0.8888888888888888,
             "#fdca26"
            ],
            [
             1,
             "#f0f921"
            ]
           ]
          },
          "colorway": [
           "#636efa",
           "#EF553B",
           "#00cc96",
           "#ab63fa",
           "#FFA15A",
           "#19d3f3",
           "#FF6692",
           "#B6E880",
           "#FF97FF",
           "#FECB52"
          ],
          "font": {
           "color": "#2a3f5f"
          },
          "geo": {
           "bgcolor": "white",
           "lakecolor": "white",
           "landcolor": "white",
           "showlakes": true,
           "showland": true,
           "subunitcolor": "#C8D4E3"
          },
          "hoverlabel": {
           "align": "left"
          },
          "hovermode": "closest",
          "mapbox": {
           "style": "light"
          },
          "paper_bgcolor": "white",
          "plot_bgcolor": "white",
          "polar": {
           "angularaxis": {
            "gridcolor": "#EBF0F8",
            "linecolor": "#EBF0F8",
            "ticks": ""
           },
           "bgcolor": "white",
           "radialaxis": {
            "gridcolor": "#EBF0F8",
            "linecolor": "#EBF0F8",
            "ticks": ""
           }
          },
          "scene": {
           "xaxis": {
            "backgroundcolor": "white",
            "gridcolor": "#DFE8F3",
            "gridwidth": 2,
            "linecolor": "#EBF0F8",
            "showbackground": true,
            "ticks": "",
            "zerolinecolor": "#EBF0F8"
           },
           "yaxis": {
            "backgroundcolor": "white",
            "gridcolor": "#DFE8F3",
            "gridwidth": 2,
            "linecolor": "#EBF0F8",
            "showbackground": true,
            "ticks": "",
            "zerolinecolor": "#EBF0F8"
           },
           "zaxis": {
            "backgroundcolor": "white",
            "gridcolor": "#DFE8F3",
            "gridwidth": 2,
            "linecolor": "#EBF0F8",
            "showbackground": true,
            "ticks": "",
            "zerolinecolor": "#EBF0F8"
           }
          },
          "shapedefaults": {
           "line": {
            "color": "#2a3f5f"
           }
          },
          "ternary": {
           "aaxis": {
            "gridcolor": "#DFE8F3",
            "linecolor": "#A2B1C6",
            "ticks": ""
           },
           "baxis": {
            "gridcolor": "#DFE8F3",
            "linecolor": "#A2B1C6",
            "ticks": ""
           },
           "bgcolor": "white",
           "caxis": {
            "gridcolor": "#DFE8F3",
            "linecolor": "#A2B1C6",
            "ticks": ""
           }
          },
          "title": {
           "x": 0.05
          },
          "xaxis": {
           "automargin": true,
           "gridcolor": "#EBF0F8",
           "linecolor": "#EBF0F8",
           "ticks": "",
           "title": {
            "standoff": 15
           },
           "zerolinecolor": "#EBF0F8",
           "zerolinewidth": 2
          },
          "yaxis": {
           "automargin": true,
           "gridcolor": "#EBF0F8",
           "linecolor": "#EBF0F8",
           "ticks": "",
           "title": {
            "standoff": 15
           },
           "zerolinecolor": "#EBF0F8",
           "zerolinewidth": 2
          }
         }
        },
        "title": {
         "text": "Reward for Various Training Runs on Math 10k"
        },
        "xaxis": {
         "title": {
          "text": "Step"
         }
        },
        "yaxis": {
         "title": {
          "text": "Reward"
         }
        }
       }
      },
      "image/png": "[encoded data removed]"
     },
     "metadata": {},
     "output_type": "display_data"
    }
   ],
   "source": [
    "PREFIX = \"/Users/kahnvex/projects/peralta/runs/\"\n",
    "\n",
    "plot_tb_scalars(\n",
    "    {\n",
    "        \"Qwen2 0.5B Instruct, Reinforce\": f\"{PREFIX}2025-09-11_15-25-52/reinforce_qwen_qwen2-0.5b-instruct_math_10k\",\n",
    "        \"Qwen3 0.6B, Reinforce\": f\"{PREFIX}2025-09-11_20-49-04/reinforce_qwen_qwen3-0.6b_math_10k\",\n",
    "        \"Qwen2 0.5B Instruct, GRPO\": f\"{PREFIX}2025-09-12_13-33-17/grpo_qwen_qwen2-0.5b-instruct_math_10k\",\n",
    "    },\n",
    "    tag=\"all_rewards\",\n",
    "    xaxis=\"step\",\n",
    "    title=\"Reward for Various Training Runs on Math 10k\",\n",
    "    save_html=\"../docs/assets/math_10k.html\",\n",
    ")"
   ]
  },
  {
   "cell_type": "code",
   "execution_count": null,
   "id": "251bfd5b-1e43-48d9-a6b7-86961d32e3e6",
   "metadata": {},
   "outputs": [],
   "source": []
  }
 ],
 "metadata": {
  "kernelspec": {
   "display_name": "Python 3 (ipykernel)",
   "language": "python",
   "name": "python3"
  },
  "language_info": {
   "codemirror_mode": {
    "name": "ipython",
    "version": 3
   },
   "file_extension": ".py",
   "mimetype": "text/x-python",
   "name": "python",
   "nbconvert_exporter": "python",
   "pygments_lexer": "ipython3",
   "version": "3.10.18"
  }
 },
 "nbformat": 4,
 "nbformat_minor": 5
}
